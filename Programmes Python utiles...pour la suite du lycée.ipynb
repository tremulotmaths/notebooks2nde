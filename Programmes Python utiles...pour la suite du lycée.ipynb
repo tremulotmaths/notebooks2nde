{
 "cells": [
  {
   "cell_type": "markdown",
   "metadata": {},
   "source": [
    "# Programmes Python utiles pour la suite du lycée"
   ]
  },
  {
   "cell_type": "markdown",
   "metadata": {},
   "source": [
    "L'objectif est d'écrire des programmes qui vous seront utiles pour la suite de votre scolarité.\n",
    "\n",
    "Vous allez choisir les thèmes...et écrire les programmes !"
   ]
  },
  {
   "cell_type": "markdown",
   "metadata": {},
   "source": [
    "## Thème 1 : Vecteurs"
   ]
  },
  {
   "cell_type": "code",
   "execution_count": 4,
   "metadata": {},
   "outputs": [
    {
     "name": "stdout",
     "output_type": "stream",
     "text": [
      "True\n",
      "False\n",
      "True\n",
      "False\n"
     ]
    }
   ],
   "source": [
    "def determinant(x_1,y_1,x_2,y_2):\n",
    "    return x_1*y_2-y_1*x_2\n",
    "\n",
    "\n",
    "# Première version\n",
    "\n",
    "def sont_colineaires(x_1,y_1,x_2,y_2):\n",
    "    \"\"\"La fonction prend en arguments 4 nombres\n",
    "    qui correspondent à ce qui suit :\n",
    "    les deux premiers sont les coordonnées du 1er vecteur\n",
    "    les deux derniers sont les coordonnées du 2ème vecteur\"\"\"\n",
    "    if determinant(x_1,y_1,x_2,y_2) == 0:\n",
    "        return True\n",
    "    else :\n",
    "        return False\n",
    "\n",
    "# Deuxième version\n",
    "    \n",
    "def sont_colineaires2(x_1,y_1,x_2,y_2):\n",
    "    \"\"\"La fonction prend en arguments 4 nombres\n",
    "    qui correspondent à ce qui suit :\n",
    "    les deux premiers sont les coordonnées du 1er vecteur\n",
    "    les deux derniers sont les coordonnées du 2ème vecteur\"\"\"\n",
    "    return determinant(x_1,y_1,x_2,y_2) == 0\n",
    "\n",
    "print(sont_colineaires(1,1,2,2))\n",
    "print(sont_colineaires(1,1,3,2))\n",
    "print(sont_colineaires2(1,1,2,2))\n",
    "print(sont_colineaires2(1,1,3,2))"
   ]
  },
  {
   "cell_type": "code",
   "execution_count": 8,
   "metadata": {},
   "outputs": [
    {
     "name": "stdout",
     "output_type": "stream",
     "text": [
      "4.123105625617661\n"
     ]
    }
   ],
   "source": [
    "# chargement de la fonction sqrt du module math\n",
    "from math import sqrt\n",
    "\n",
    "# norme d'un vecteur de coordonnées (x, y)\n",
    "def norme(x, y):\n",
    "    \"\"\"Fonction qui prend en arguments les coordonnées d'un vecteur\n",
    "    du plan muni d'un repère orthonormé et qui retourne la norme de\n",
    "    ce vecteur\"\"\"\n",
    "    return sqrt(x**2+y**2)\n",
    "\n",
    "# distance entre deux points A(x_A, y_A) et B(x_B, y_B)\n",
    "def distance(x_A, y_A, x_B, y_B):\n",
    "    \"\"\"Fonction qui prend en arguments les coordonnées de deux points \n",
    "    dans un repère orthonormé du plan et retourne la distance entre ces \n",
    "    deux points\"\"\"\n",
    "    return norme(x_B-x_A, y_B-y_A)\n",
    "\n",
    "print(distance(1, 1, 2, 5))"
   ]
  },
  {
   "cell_type": "markdown",
   "metadata": {},
   "source": [
    "## Thème 2 : Fonctions"
   ]
  },
  {
   "cell_type": "code",
   "execution_count": 5,
   "metadata": {},
   "outputs": [
    {
     "name": "stdout",
     "output_type": "stream",
     "text": [
      "False\n",
      "True\n"
     ]
    }
   ],
   "source": [
    "# Fonction dont l'expression est à modifier si besoin.\n",
    "\n",
    "def f(x):\n",
    "    return x**2\n",
    "\n",
    "def appartient_courbe(x_A,y_A):\n",
    "    \"\"\"Fonction qui prend en argument les coordonnées d'un point A\n",
    "    et indique s'il appartient à la courbe de la fonction f\n",
    "    définie dans la fonction Python précédente.\n",
    "    Modifier l'expression de la fonction f pour qu'elle corresponde à la vôtre.\"\"\"\n",
    "    return f(x_A) == y_A\n",
    "\n",
    "print(appartient_courbe(1,2))\n",
    "print(appartient_courbe(-4,16))"
   ]
  },
  {
   "cell_type": "markdown",
   "metadata": {},
   "source": [
    "## Thème 3 : Simulation du hasard"
   ]
  },
  {
   "cell_type": "code",
   "execution_count": 6,
   "metadata": {},
   "outputs": [
    {
     "name": "stdout",
     "output_type": "stream",
     "text": [
      "0.173\n"
     ]
    }
   ],
   "source": [
    "#chargement du module random\n",
    "from random import *\n",
    "\n",
    "def frequence_de(nombre_lancers, face):\n",
    "    \"\"\"Fonction qui prend en argument un nombre de lancers et une face\n",
    "    et retourne la fréquence d'apparition de la face choisie lors de n lancers\n",
    "    d'un dé cubique équilibré\"\"\"\n",
    "    N = 0 #compte le nombre de d'appartion de la face choisie\n",
    "    for i in range(nombre_lancers):\n",
    "        if randint(1, 6) == face:\n",
    "            N = N + 1\n",
    "    return N/nombre_lancers\n",
    "\n",
    "print(frequence_de(1000, 6))"
   ]
  },
  {
   "cell_type": "markdown",
   "metadata": {},
   "source": [
    "## Thème 4 : "
   ]
  },
  {
   "cell_type": "code",
   "execution_count": null,
   "metadata": {},
   "outputs": [],
   "source": [
    "pass"
   ]
  }
 ],
 "metadata": {
  "kernelspec": {
   "display_name": "Python 3",
   "language": "python",
   "name": "python3"
  },
  "language_info": {
   "codemirror_mode": {
    "name": "ipython",
    "version": 3
   },
   "file_extension": ".py",
   "mimetype": "text/x-python",
   "name": "python",
   "nbconvert_exporter": "python",
   "pygments_lexer": "ipython3",
   "version": "3.7.4"
  }
 },
 "nbformat": 4,
 "nbformat_minor": 2
}
