{
 "cells": [
  {
   "cell_type": "markdown",
   "metadata": {},
   "source": [
    "# Révisions de calculs numériques (2nde)"
   ]
  },
  {
   "cell_type": "markdown",
   "metadata": {},
   "source": [
    "## A. Avec des fractions"
   ]
  },
  {
   "cell_type": "markdown",
   "metadata": {},
   "source": [
    "### Exercice 1 : Écrire sous la forme d'une fraction irréductible les expressions numériques suivantes.\n",
    "\n",
    "1. $A=\\dfrac{1}{4}+\\dfrac{2}{7}$\n",
    "2. $B=\\dfrac{5}{3}-9$\n",
    "3. $C=\\dfrac{-3}{4}\\times \\left(1+\\dfrac{2}{7}\\right)$\n",
    "4. $D=\\dfrac{1-\\frac{2}{3}}{1+\\frac{2}{3}}+\\dfrac{2}{7}$"
   ]
  },
  {
   "cell_type": "markdown",
   "metadata": {},
   "source": [
    "Vos réponses en détaillant les étapes de calcul :\n",
    "\n",
    "1. $A=\\dfrac{1}{4}+\\dfrac{2}{7}$\n",
    "\n",
    "\n",
    "2. $B=\\dfrac{5}{3}-9$\n",
    "\n",
    "\n",
    "3. $C=\\dfrac{-3}{4}\\times \\left(1+\\dfrac{2}{7}\\right)$\n",
    "\n",
    "\n",
    "4. $D=\\dfrac{1-\\frac{2}{3}}{1+\\frac{2}{3}}+\\dfrac{2}{7}$\n",
    "\n"
   ]
  },
  {
   "cell_type": "markdown",
   "metadata": {},
   "source": [
    "## B. Avec des puissances"
   ]
  },
  {
   "cell_type": "markdown",
   "metadata": {},
   "source": [
    "### Exercice 2 : Écrire sous la forme d'une seule puissance.\n",
    "\n",
    "1. $A=5^4\\times 5^{10}$\n",
    "2. $B=\\frac{5^7}{5^9}$\n",
    "3. $C=5^8\\times 3^8$\n",
    "4. $D=\\left(10^8\\right)^9$\n",
    "5. $E=\\frac{1}{10^{12}}$"
   ]
  },
  {
   "cell_type": "markdown",
   "metadata": {},
   "source": [
    "Vos réponses en détaillant les étapes de calcul :\n",
    "\n",
    "1. $A=5^4\\times 5^{10}$\n",
    "\n",
    "\n",
    "2. $B=\\frac{5^7}{5^9}$\n",
    "\n",
    "\n",
    "3. $C=5^8\\times 3^8$\n",
    "\n",
    "\n",
    "4. $D=\\left(10^8\\right)^9$\n",
    "\n",
    "\n",
    "5. $E=\\frac{1}{10^{12}}$\n",
    "\n"
   ]
  },
  {
   "cell_type": "markdown",
   "metadata": {},
   "source": [
    "### Exercice 3 : Donner l'écriture scientifique des nombres suivants.\n",
    "\n",
    "1. $A=750215,28$\n",
    "2. $B=0,0000000135$\n",
    "3. $C=10^8\\times 7\\times 10^5\\times 8$\n",
    "4. $D=\\frac{12\\times 10^6}{20\\times 10^9}$\n",
    "5. $E=\\frac{3520,2\\times 10^{-3}}{234,68\\times 10^{-5}}$"
   ]
  },
  {
   "cell_type": "markdown",
   "metadata": {},
   "source": [
    "Vos réponses en détaillant les étapes de calcul :\n",
    "\n",
    "1. $A=750215,28$\n",
    "\n",
    "\n",
    "2. $B=0,0000000135$\n",
    "\n",
    "\n",
    "3. $C=10^8\\times 7\\times 10^5\\times 8$\n",
    "\n",
    "\n",
    "4. $D=\\frac{12\\times 10^6}{20\\times 10^9}$\n",
    "\n",
    "\n",
    "5. $E=\\frac{3520,2\\times 10^{-3}}{234,68\\times 10^{-5}}$\n",
    "\n"
   ]
  },
  {
   "cell_type": "markdown",
   "metadata": {},
   "source": [
    "## C. Avec des racines carrées"
   ]
  },
  {
   "cell_type": "markdown",
   "metadata": {},
   "source": [
    "### Exercice 4 : Écrire sous la forme $a\\sqrt{b}$ où $a$ et $b$ sont des entiers avec $b$ le plus petit possible.\n",
    "\n",
    "1. $A=\\sqrt{169}$\n",
    "2. $B=\\sqrt{256}$\n",
    "3. $C=\\sqrt{10^8}$\n",
    "4. $D=\\sqrt{98}$\n",
    "5. $E=\\sqrt{600}$"
   ]
  },
  {
   "cell_type": "markdown",
   "metadata": {},
   "source": [
    "Vos réponses en détaillant les étapes de calcul :\n",
    "\n",
    "1. $A=\\sqrt{169}$\n",
    "\n",
    "\n",
    "2. $B=\\sqrt{256}$\n",
    "\n",
    "\n",
    "3. $C=\\sqrt{10^8}$\n",
    "\n",
    "\n",
    "4. $D=\\sqrt{98}$\n",
    "\n",
    "\n",
    "5. $E=\\sqrt{600}$\n",
    "\n"
   ]
  },
  {
   "cell_type": "markdown",
   "metadata": {},
   "source": [
    "### Exercice 5 : Écrire sans racine au dénominateur les quotients suivants.\n",
    "\n",
    "1. $A=\\frac{5}{\\sqrt{2}}$\n",
    "2. $B=\\frac{1+\\sqrt{2}}{2+\\sqrt{3}}$\n",
    "3. $C=\\frac{\\sqrt{5}}{\\sqrt{2}+\\sqrt{3}}$"
   ]
  },
  {
   "cell_type": "markdown",
   "metadata": {},
   "source": [
    "Vos réponses en détaillant les étapes de calcul :\n",
    "\n",
    "1. $A=\\frac{5}{\\sqrt{2}}$\n",
    "\n",
    "\n",
    "2. $B=\\frac{1+\\sqrt{2}}{2+\\sqrt{3}}$\n",
    "\n",
    "\n",
    "3. $C=\\frac{\\sqrt{5}}{\\sqrt{2}+\\sqrt{3}}$\n",
    "\n"
   ]
  }
 ],
 "metadata": {
  "kernelspec": {
   "display_name": "Python 3",
   "language": "python",
   "name": "python3"
  },
  "language_info": {
   "codemirror_mode": {
    "name": "ipython",
    "version": 3
   },
   "file_extension": ".py",
   "mimetype": "text/x-python",
   "name": "python",
   "nbconvert_exporter": "python",
   "pygments_lexer": "ipython3",
   "version": "3.7.4"
  }
 },
 "nbformat": 4,
 "nbformat_minor": 2
}
