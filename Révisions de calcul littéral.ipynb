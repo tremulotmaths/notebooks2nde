{
 "cells": [
  {
   "cell_type": "markdown",
   "metadata": {},
   "source": [
    "# Répondez aux questions suivantes en détaillant les calculs"
   ]
  },
  {
   "cell_type": "markdown",
   "metadata": {},
   "source": [
    "## A. Quelles sont les expressions développées et réduites des expressions suivantes ?\n",
    "\n",
    "1. $A=5x(6-x)$\n",
    "2. $B=(2x+3)(7-x)$\n",
    "3. $C=(6x-1)^2$\n",
    "4. $D=(3-2x)(3+2x)$\n",
    "5. $E=3x(5-x)(x+7)$"
   ]
  },
  {
   "cell_type": "markdown",
   "metadata": {},
   "source": [
    "Vos réponses détaillées (vous pouvez utiliser la syntaxe $\\LaTeX$ pour répondre...) :\n",
    "\n",
    "1.\n",
    "\n",
    "2.\n",
    "\n",
    "3.\n",
    "\n",
    "4.\n",
    "\n",
    "5.\n"
   ]
  },
  {
   "cell_type": "markdown",
   "metadata": {},
   "source": [
    "## B. Factoriser de façon non triviale les expressions suivantes\n",
    "\n",
    "1. $A=5x^2-x$\n",
    "2. $B=3x(2x+1)-(7-x)(2x+1)$\n",
    "3. $C=36x^2+12x+1$\n",
    "4. $D=16x^2-9$\n",
    "5. $E=4x(7-x)+(7-x)^2$"
   ]
  },
  {
   "cell_type": "markdown",
   "metadata": {},
   "source": [
    "Vos réponses détaillées (vous pouvez utiliser la syntaxe $\\LaTeX$ pour répondre...) :\n",
    "\n",
    "1.\n",
    "\n",
    "2.\n",
    "\n",
    "3.\n",
    "\n",
    "4.\n",
    "\n",
    "5.\n"
   ]
  },
  {
   "cell_type": "markdown",
   "metadata": {},
   "source": [
    "## C. Différentes expressions d'une même fonction\n",
    "\n",
    "Pour tout réel $x$, on pose $f(x)=(x-3)^2-2(2x-6)(x+1)$.\n",
    "\n",
    "1. Développer, réduire et ordonner $f(x)$.\n",
    "2. Factoriser $f(x)$.\n",
    "3. Choisir l'expression la plus adpatée et effectuer les calculs suivants :\n",
    "    * Calculer $f(0)$\n",
    "    * Calculer $f(-1)$\n",
    "    * Calculer $f(3)$\n",
    "    * Calculer $f(-5)$\n",
    "4. Résoudre dans $\\mathbb{R}$ l'équation $f(x)=0$.\n",
    "5. Résoudre dans $\\mathbb{R}$ l'équation $f(x)=21$."
   ]
  },
  {
   "cell_type": "markdown",
   "metadata": {},
   "source": [
    "Vos réponses détaillées (vous pouvez utiliser la syntaxe $\\LaTeX$ pour répondre...) :\n",
    "\n",
    "1. \n",
    "\n",
    "2. \n",
    "\n",
    "3. \n",
    "    * \n",
    "    * \n",
    "    * \n",
    "    * \n",
    "4. \n",
    "\n",
    "5. \n"
   ]
  }
 ],
 "metadata": {
  "kernelspec": {
   "display_name": "Python 3",
   "language": "python",
   "name": "python3"
  },
  "language_info": {
   "codemirror_mode": {
    "name": "ipython",
    "version": 3
   },
   "file_extension": ".py",
   "mimetype": "text/x-python",
   "name": "python",
   "nbconvert_exporter": "python",
   "pygments_lexer": "ipython3",
   "version": "3.7.4"
  }
 },
 "nbformat": 4,
 "nbformat_minor": 2
}
