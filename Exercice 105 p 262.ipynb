{
 "cells": [
  {
   "cell_type": "markdown",
   "metadata": {},
   "source": [
    "*Remarques :*\n",
    "\n",
    "1. *Pour écrire directement dans ce document, vous devez double-cliquer sur la zone qui vous intéresse*.\n",
    "\n",
    "2. *Pour exécuter le code d'une cellule (texte ou code Python), cliquez sur Run ou appuyez sur les touches Ctrl et Entrée*."
   ]
  },
  {
   "cell_type": "markdown",
   "metadata": {},
   "source": [
    "# Exercice 105 p 262\n",
    "\n",
    "Un oscilloscope permer de visualiser le signal d'une tension périodique $U$ en fonction du temps $t$.\n",
    "![Graphique](ex105p262.png)"
   ]
  },
  {
   "cell_type": "markdown",
   "metadata": {},
   "source": [
    "1. Le programme ci-dessous donne une représentation graphique d'un signal périodique enregistré par un oscilloscope."
   ]
  },
  {
   "cell_type": "code",
   "execution_count": null,
   "metadata": {},
   "outputs": [],
   "source": [
    "import matplotlib.pyplot as plt\n",
    "\n",
    "for n in range(6):\n",
    "    x = [4*n, 1+4*n, 3+4*n, 4+4*n]\n",
    "    y = [0, 3, -3, 0]\n",
    "    plt.plot(x,y)\n",
    "plt.show()"
   ]
  },
  {
   "cell_type": "markdown",
   "metadata": {},
   "source": [
    "a. Exécuter ce programme."
   ]
  },
  {
   "cell_type": "markdown",
   "metadata": {},
   "source": [
    "b. Construire un tableau de variations de la fonction définie par cette courbe sur $[0;4]$."
   ]
  },
  {
   "cell_type": "markdown",
   "metadata": {},
   "source": [
    "c. Les réglages de l'oscilloscope sont de 0,5 ms pour une unité en abscisse et de 2 V pour une unité en ordonnée.\n",
    "En déduire, d'après la question **b.**, la période $T$, la fréquence $f$ et les valeurs $U_{\\text{max}}$ et $U_{\\text{min}}$ du signal périodique représenté."
   ]
  },
  {
   "cell_type": "markdown",
   "metadata": {},
   "source": [
    "2. Un signal périodique de même allure que celui de la question **1.** a une fréquence de 2002 Hz, une tension maximale de 8 V et une tension minimale de $-8$ V.\n",
    "Modifier le programme précédent afin d'obtenir une représentation de ce signal sur 6 périodes."
   ]
  },
  {
   "cell_type": "code",
   "execution_count": null,
   "metadata": {},
   "outputs": [],
   "source": [
    "# Code à modifier\n",
    "\n",
    "import matplotlib.pyplot as plt\n",
    "\n",
    "for n in range(6):\n",
    "    x = [4*n, 1+4*n, 3+4*n, 4+4*n]\n",
    "    y = [0, 3, -3, 0]\n",
    "    plt.plot(x,y)\n",
    "plt.show()"
   ]
  }
 ],
 "metadata": {
  "kernelspec": {
   "display_name": "Python 3",
   "language": "python",
   "name": "python3"
  },
  "language_info": {
   "codemirror_mode": {
    "name": "ipython",
    "version": 3
   },
   "file_extension": ".py",
   "mimetype": "text/x-python",
   "name": "python",
   "nbconvert_exporter": "python",
   "pygments_lexer": "ipython3",
   "version": "3.7.4"
  }
 },
 "nbformat": 4,
 "nbformat_minor": 2
}
