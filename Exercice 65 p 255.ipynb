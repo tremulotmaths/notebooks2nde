{
 "cells": [
  {
   "cell_type": "markdown",
   "metadata": {},
   "source": [
    "*Remarques :*\n",
    "\n",
    "1. *Pour écrire directement dans ce document, vous devez double-cliquer sur la zone qui vous intéresse*.\n",
    "\n",
    "2. *Pour exécuter le code d'une cellule (texte ou code Python), cliquez sur Run ou appuyez sur les touches Ctrl et Entrée*."
   ]
  },
  {
   "cell_type": "markdown",
   "metadata": {},
   "source": [
    "# Exercice 65 p 255\n",
    "La courbe ci-dessous est la représentation graphique d'une fonction $f$ définie sur l'intervalle $[-1;5]$.\n",
    "![Graphique](ex65p255.png)"
   ]
  },
  {
   "cell_type": "markdown",
   "metadata": {},
   "source": [
    "1. Déterminer graphiquement le minimum et le maximum de la fonction $f$ sur $[-1;5]$.\n",
    "\n",
    "Réponse : "
   ]
  },
  {
   "cell_type": "markdown",
   "metadata": {},
   "source": [
    "2. Une expression de la fonction $f$ est données par :\n",
    "$$f(x)=3x^3-21x^2+22x+26$$\n",
    "a. Exécuter le programme suivant en appelant `recherche(0,0.1)` (Il suffit d'enlever le symbole # pour que la dernière ligne du code ne soit plus un commentaire puis exécuter le code)."
   ]
  },
  {
   "cell_type": "code",
   "execution_count": null,
   "metadata": {},
   "outputs": [],
   "source": [
    "def f(x):\n",
    "    return 3*x**3-21*x**2+22*x+26\n",
    "\n",
    "def recherche(a,pas):\n",
    "    while f(a)<f(a+pas):\n",
    "        a = a+pas\n",
    "    return [a,f(a)]\n",
    "\n",
    "#recherche(0,0.1)"
   ]
  },
  {
   "cell_type": "markdown",
   "metadata": {},
   "source": [
    "b. Que représente la liste de valeurs renvoyée par la fonction `recherche` ?\n",
    "\n",
    "Réponse :"
   ]
  },
  {
   "cell_type": "markdown",
   "metadata": {},
   "source": [
    "c. Modifier la fonction et son appel afin d'obtenir une valeur approchée du minimum de $f$ sur $[-1;5]$ et son antécédent avec une précision au centième."
   ]
  },
  {
   "cell_type": "code",
   "execution_count": null,
   "metadata": {},
   "outputs": [],
   "source": [
    "# Code à modifier\n",
    "def f(x):\n",
    "    return 3*x**3-21*x**2+22*x+26\n",
    "\n",
    "def recherche(a,pas):\n",
    "    while f(a)<f(a+pas):\n",
    "        a = a+pas\n",
    "    return [a,f(a)]\n",
    "\n",
    "#recherche(0,0.1)"
   ]
  }
 ],
 "metadata": {
  "kernelspec": {
   "display_name": "Python 3",
   "language": "python",
   "name": "python3"
  },
  "language_info": {
   "codemirror_mode": {
    "name": "ipython",
    "version": 3
   },
   "file_extension": ".py",
   "mimetype": "text/x-python",
   "name": "python",
   "nbconvert_exporter": "python",
   "pygments_lexer": "ipython3",
   "version": "3.7.4"
  }
 },
 "nbformat": 4,
 "nbformat_minor": 2
}
