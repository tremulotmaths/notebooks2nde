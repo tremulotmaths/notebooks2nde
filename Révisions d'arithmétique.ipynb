{
 "cells": [
  {
   "cell_type": "markdown",
   "metadata": {},
   "source": [
    "# Révisions d'arithmétique (2nde)"
   ]
  },
  {
   "cell_type": "markdown",
   "metadata": {},
   "source": [
    "## A. Liste des diviseurs"
   ]
  },
  {
   "cell_type": "markdown",
   "metadata": {},
   "source": [
    "### Exercice 1 : Liste les diviseurs (entiers naturels) des nombres suivants.\n",
    "\n",
    "1. $A=180$\n",
    "2. $B=923$\n",
    "3. $C=781$\n",
    "4. $D=2601$"
   ]
  },
  {
   "cell_type": "markdown",
   "metadata": {},
   "source": [
    "Vos réponses en détaillant les calculs :\n",
    "\n",
    "1. $A=180$\n",
    "\n",
    "\n",
    "2. $B=923$\n",
    "\n",
    "\n",
    "3. $C=781$\n",
    "\n",
    "\n",
    "4. $D=2601$\n",
    "\n"
   ]
  },
  {
   "cell_type": "markdown",
   "metadata": {},
   "source": [
    "### Exercice 2 : Écrire un programme Python permettant de lister les diviseurs d'un entier\n",
    "\n",
    "Remplacer `pass` par votre code dans l'encadré ci-dessous."
   ]
  },
  {
   "cell_type": "code",
   "execution_count": null,
   "metadata": {},
   "outputs": [],
   "source": [
    "def liste_diviseurs(n):\n",
    "    pass"
   ]
  },
  {
   "cell_type": "markdown",
   "metadata": {},
   "source": [
    "## B. Tester si un nombre est premier"
   ]
  },
  {
   "cell_type": "markdown",
   "metadata": {},
   "source": [
    "### Exercice 3 : Indiquer si les entiers suivants sont premiers.\n",
    "\n",
    "1. $A=180$\n",
    "2. $B=113$\n",
    "3. $C=1051$\n",
    "4. $D=767$"
   ]
  },
  {
   "cell_type": "markdown",
   "metadata": {},
   "source": [
    "Vos réponses en détaillant les calculs :\n",
    "\n",
    "1. $A=180$\n",
    "\n",
    "\n",
    "2. $B=113$\n",
    "\n",
    "\n",
    "3. $C=1051$\n",
    "\n",
    "\n",
    "4. $D=767$\n",
    "\n"
   ]
  },
  {
   "cell_type": "markdown",
   "metadata": {},
   "source": [
    "### Exercice 4 : Écrire un programme Python permettant de tester si un entier est premier\n",
    "\n",
    "Remplacer `pass` par votre code dans l'encadré ci-dessous."
   ]
  },
  {
   "cell_type": "code",
   "execution_count": null,
   "metadata": {},
   "outputs": [],
   "source": [
    "def est_premier(n):\n",
    "    pass"
   ]
  },
  {
   "cell_type": "markdown",
   "metadata": {},
   "source": [
    "### Exercice 5 : Écrire un programme Python permettant de lister les nombres premiers inférieurs ou égaux à $n$\n",
    "\n",
    "Remplacer `pass` par votre code dans l'encadré ci-dessous."
   ]
  },
  {
   "cell_type": "code",
   "execution_count": null,
   "metadata": {},
   "outputs": [],
   "source": [
    "def nbres_premiers_inferieurs(n):\n",
    "    pass"
   ]
  },
  {
   "cell_type": "markdown",
   "metadata": {},
   "source": [
    "## C. Décomposer un entier en facteurs premiers"
   ]
  },
  {
   "cell_type": "markdown",
   "metadata": {},
   "source": [
    "### Exercice 6 : Décomposer en un produit de facteurs premiers les nombres suivants.\n",
    "\n",
    "1. $A=180$\n",
    "2. $B=540$\n",
    "3. $C=767$"
   ]
  },
  {
   "cell_type": "markdown",
   "metadata": {},
   "source": [
    "Vos réponses en détaillant les calculs :\n",
    "\n",
    "1. $A=180$\n",
    "\n",
    "\n",
    "2. $B=540$\n",
    "\n",
    "\n",
    "3. $C=767$\n",
    "\n"
   ]
  },
  {
   "cell_type": "markdown",
   "metadata": {},
   "source": [
    "### Exercice 7 : Écrire un programme Python d'écrire la décomposition en facteurs premiers d'un entier naturel\n",
    "\n",
    "Remplacer `pass` par votre code dans l'encadré ci-dessous."
   ]
  },
  {
   "cell_type": "code",
   "execution_count": null,
   "metadata": {},
   "outputs": [],
   "source": [
    "def decomp_facteurs_premiers(n):\n",
    "    pass"
   ]
  }
 ],
 "metadata": {
  "kernelspec": {
   "display_name": "Python 3",
   "language": "python",
   "name": "python3"
  },
  "language_info": {
   "codemirror_mode": {
    "name": "ipython",
    "version": 3
   },
   "file_extension": ".py",
   "mimetype": "text/x-python",
   "name": "python",
   "nbconvert_exporter": "python",
   "pygments_lexer": "ipython3",
   "version": "3.7.4"
  }
 },
 "nbformat": 4,
 "nbformat_minor": 2
}
